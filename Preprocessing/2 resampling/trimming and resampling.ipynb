{
  "nbformat": 4,
  "nbformat_minor": 0,
  "metadata": {
    "colab": {
      "provenance": []
    },
    "kernelspec": {
      "name": "python3",
      "display_name": "Python 3"
    },
    "language_info": {
      "name": "python"
    }
  },
  "cells": [
    {
      "cell_type": "code",
      "source": [
        "import librosa\n",
        "import numpy as np\n",
        "import soundfile as sf\n",
        "\n",
        "# Prompt the user to enter the file path of the audio file\n",
        "file_path = input(\"Enter the file path of the audio file: \")\n",
        "\n",
        "# Load the audio file\n",
        "try:\n",
        "    y, sr = librosa.load(file_path)\n",
        "except Exception as e:\n",
        "    print(f\"Error: {e}\")\n",
        "    print(\"Please ensure that the file path is correct and the file exists.\")\n",
        "    exit()\n",
        "\n",
        "# Calculate the number of samples for 2 minutes\n",
        "duration_in_seconds = 120  # 2 minutes\n",
        "num_samples_to_keep = int(duration_in_seconds * sr)\n",
        "\n",
        "# Trim the audio to 2 minutes\n",
        "trimmed_audio = y[:num_samples_to_keep]\n",
        "\n",
        "# Save the trimmed audio as a new file\n",
        "output_file = \"trimmed_audio.wav\"\n",
        "sf.write(output_file, trimmed_audio, sr)\n",
        "\n",
        "print(f\"Trimmed audio saved as {output_file}\")\n"
      ],
      "metadata": {
        "colab": {
          "base_uri": "https://localhost:8080/"
        },
        "id": "aOGRRus63w-_",
        "outputId": "9377f7e0-e29b-409e-916d-8485d411ff01"
      },
      "execution_count": 10,
      "outputs": [
        {
          "name": "stdout",
          "output_type": "stream",
          "text": [
            "Enter the file path of the audio file: /content/Asha Bhosle - Sancha Naam Tera - From Julie - Soundtrack Version.opus\n"
          ]
        },
        {
          "output_type": "stream",
          "name": "stderr",
          "text": [
            "<ipython-input-10-256f37bebcfa>:10: UserWarning: PySoundFile failed. Trying audioread instead.\n",
            "  y, sr = librosa.load(file_path)\n",
            "/usr/local/lib/python3.10/dist-packages/librosa/core/audio.py:183: FutureWarning: librosa.core.audio.__audioread_load\n",
            "\tDeprecated as of librosa version 0.10.0.\n",
            "\tIt will be removed in librosa version 1.0.\n",
            "  y, sr_native = __audioread_load(path, offset, duration, dtype)\n"
          ]
        },
        {
          "output_type": "stream",
          "name": "stdout",
          "text": [
            "Trimmed audio saved as trimmed_audio.wav\n"
          ]
        }
      ]
    },
    {
      "cell_type": "code",
      "source": [
        "import librosa\n",
        "import numpy as np\n",
        "\n",
        "# Load the trimmed audio file\n",
        "trimmed_audio_file = \"trimmed_audio.wav\"\n",
        "y, sr = librosa.load(trimmed_audio_file)\n",
        "\n",
        "# Get the number of samples in the trimmed audio\n",
        "num_samples = len(y)\n",
        "\n",
        "# Display the original sampling rate\n",
        "print(\"Original Sampling Rate:\", sr)\n",
        "\n",
        "# Calculate the duration of the trimmed audio in seconds\n",
        "duration_seconds = num_samples / sr\n",
        "print(\"Duration of Trimmed Audio:\", duration_seconds, \"seconds\")\n",
        "\n",
        "# Define the desired sampling rate for resampling\n",
        "desired_sr = 44100  # Example: 44.1 kHz\n",
        "\n",
        "# Resample the audio to the desired sampling rate\n",
        "resampled_audio = librosa.resample(y, orig_sr=sr, target_sr=desired_sr)\n",
        "\n",
        "# Get the number of samples in the resampled audio\n",
        "num_samples_resampled = len(resampled_audio)\n",
        "\n",
        "# Display the resampled sampling rate\n",
        "print(\"Resampled Sampling Rate:\", desired_sr)\n",
        "\n",
        "# Calculate the duration of the resampled audio in seconds\n",
        "duration_seconds_resampled = num_samples_resampled / desired_sr\n",
        "print(\"Duration of Resampled Audio:\", duration_seconds_resampled, \"seconds\")"
      ],
      "metadata": {
        "colab": {
          "base_uri": "https://localhost:8080/"
        },
        "id": "075dHhhN5-7O",
        "outputId": "dcf27fdb-de1c-4800-fa5f-b3d2e1744fa1"
      },
      "execution_count": 17,
      "outputs": [
        {
          "output_type": "stream",
          "name": "stdout",
          "text": [
            "Original Sampling Rate: 22050\n",
            "Duration of Trimmed Audio: 120.0 seconds\n",
            "Resampled Sampling Rate: 44100\n",
            "Duration of Resampled Audio: 120.0 seconds\n"
          ]
        }
      ]
    }
  ]
}