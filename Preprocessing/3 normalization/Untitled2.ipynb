{
  "nbformat": 4,
  "nbformat_minor": 0,
  "metadata": {
    "colab": {
      "provenance": []
    },
    "kernelspec": {
      "name": "python3",
      "display_name": "Python 3"
    },
    "language_info": {
      "name": "python"
    }
  },
  "cells": [
    {
      "cell_type": "code",
      "execution_count": 2,
      "metadata": {
        "id": "lYqth-3t11ov"
      },
      "outputs": [],
      "source": [
        "import librosa\n",
        "import numpy as np\n",
        "import soundfile as sf\n",
        "\n",
        "def normalize_audio(audio_data, target_db=-3.0):\n",
        "    # Compute the root mean square (RMS) of the audio signal\n",
        "    rms = np.sqrt(np.mean(np.square(audio_data)))\n",
        "\n",
        "    # Compute the desired gain to achieve the target dB level\n",
        "    current_db = 20 * np.log10(rms)\n",
        "    gain_db = target_db - current_db\n",
        "\n",
        "    # Apply the gain to normalize the audio\n",
        "    normalized_audio = audio_data * (10 ** (gain_db / 20))\n",
        "\n",
        "    return normalized_audio\n",
        "\n",
        "\n"
      ]
    },
    {
      "cell_type": "code",
      "source": [
        "# Load audio file\n",
        "filename = '/content/Pawan Singh - Bin Biyahe Rajaji.opus'\n",
        "audio_data, sample_rate = librosa.load(filename, sr=None, mono=True)\n",
        "\n",
        "# Normalize the audio\n",
        "normalized_audio = normalize_audio(audio_data)\n",
        "\n",
        "# Save the normalized audio\n",
        "output_filename = 'normalized_audio.wav'\n",
        "# sf.write(output_filename, normalized_audio, sample_rate)\n",
        "\n",
        "print(\"Normalization completed and saved as\", output_filename)"
      ],
      "metadata": {
        "colab": {
          "base_uri": "https://localhost:8080/"
        },
        "id": "OB1KKypv2Quq",
        "outputId": "5f6aeecf-0ffc-4ab5-8038-a5e96d639059"
      },
      "execution_count": 3,
      "outputs": [
        {
          "output_type": "stream",
          "name": "stderr",
          "text": [
            "<ipython-input-3-50c2388bee81>:3: UserWarning: PySoundFile failed. Trying audioread instead.\n",
            "  audio_data, sample_rate = librosa.load(filename, sr=None, mono=True)\n",
            "/usr/local/lib/python3.10/dist-packages/librosa/core/audio.py:183: FutureWarning: librosa.core.audio.__audioread_load\n",
            "\tDeprecated as of librosa version 0.10.0.\n",
            "\tIt will be removed in librosa version 1.0.\n",
            "  y, sr_native = __audioread_load(path, offset, duration, dtype)\n"
          ]
        },
        {
          "output_type": "stream",
          "name": "stdout",
          "text": [
            "Normalization completed and saved as normalized_audio.wav\n"
          ]
        }
      ]
    }
  ]
}